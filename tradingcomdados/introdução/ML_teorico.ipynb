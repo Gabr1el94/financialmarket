{
 "metadata": {
  "language_info": {
   "codemirror_mode": {
    "name": "ipython",
    "version": 3
   },
   "file_extension": ".py",
   "mimetype": "text/x-python",
   "name": "python",
   "nbconvert_exporter": "python",
   "pygments_lexer": "ipython3",
   "version": 3
  },
  "orig_nbformat": 2
 },
 "nbformat": 4,
 "nbformat_minor": 2,
 "cells": [
  {
   "cell_type": "markdown",
   "metadata": {},
   "source": [
    "# Introdução à IA\n",
    "\n",
    "- ** IA(1950) ** : Engenharia construir máquinas inteligentes;  \n",
    "\n",
    "- ** ML(1980) ** : Habilidades da máquina ter aprendizagem por meio de algoritmo para realizar testes e soluções da atualidade seja em treinamento ou generalização; \n",
    "\n",
    "- ** DL(2010) ** : É o tipo de ML que treina computadores para realizar tarefas como seres humanos, o que inclui reconhecimento de fala, identificação de imagem e previsões."
   ]
  },
  {
   "cell_type": "markdown",
   "metadata": {},
   "source": [
    "Supervisionado:  \n",
    "\n",
    "   - ** Classificação ** : Classificar se aquele         objeto é determinado grupo; \n",
    "      \n",
    "       - Regressão Logística;\n",
    "       - Árvore;\n",
    "       - Random Forest;\n",
    "       - Gradient Boosting;\n",
    "       - Redes Neurais;\n",
    "       - Deep Learning;\n",
    "\n",
    "   - ** Regressão ** : Prever valores no futuro;\n",
    "\n",
    "Não-Supervisionado: \n",
    "\n",
    "   - ** Clustering **: Tentar agrupar em determinado grupos específicos que pode ser assimiliados e que sejam diferenciados; \n",
    "   - ** Association **: Associar em eventos específicos;\n",
    "   - ** Generalização **: Redução dos componentes de uma tabelas em diversas colunas ; \n"
   ]
  },
  {
   "cell_type": "markdown",
   "metadata": {},
   "source": [
    "### Modelo: Classificação\n",
    "- Precisa ter uma variável resposta;\n",
    "\n",
    "### Modelo: Regressão\n",
    "\n",
    "- Precisa ter uma variável resposta;\n",
    "- A variável querem é prever é contínua - RegLinear;"
   ]
  },
  {
   "cell_type": "markdown",
   "metadata": {},
   "source": [
    "### Modelo Agrupamento\n",
    "Algoritmos -> (K-means,Aglomerativo,Density-based)\n",
    "#### Ex:\n",
    "================================================\n",
    "\n",
    "        (Sample)            (Cluster/group)\n",
    "#### ALIMENTOS VERDURA -> (ALFACES,TOMATES,CEBOLA) \n",
    "================================================"
   ]
  },
  {
   "cell_type": "markdown",
   "metadata": {},
   "source": [
    "### Modelo Generalização\n",
    "\n",
    "- ** Overfitting **: Ocorre quando o modelo se adaptou muito bem aos dados com os quais está sendo treinado; porém, não generaliza bem para novos dados;\n",
    "\n",
    "- ** Underfitting **: Ocorre quando o modelo não se adapta bem sequer aos dados com os quais foi treinado;\n",
    "\n",
    "-> OBS: O nosso objetivo é de errar menos possível pois é nele que teremos boas decisões e de como será representado em dados futuros."
   ]
  },
  {
   "cell_type": "markdown",
   "metadata": {},
   "source": [
    "## Processo Modelagem\n",
    "\n",
    "1. Entendimento do Problema;\n",
    "2. Aquisião dos dados;\n",
    "3. Entendimento dos dados;\n",
    "4. Feature Engineering;\n",
    "5. Modelagem;\n",
    "6. Avaliação dos resultados;\n",
    "7. Deploy;"
   ]
  },
  {
   "cell_type": "markdown",
   "metadata": {},
   "source": [
    "### Análise Exploratória Dados\n",
    "\n",
    "** 2 ciclo de modelagem: **\n",
    "  - Fase de entendimento dos dados em n bases;\n",
    "  - Fase de entendimento dos dados na ABT;\n",
    "\n",
    "-> O tipo de variável é um dos principais durante análise em que estamos trabalhando.\n",
    "\n",
    "OBS: É importante lembrar que haverá se trabalhará em Qualitativos e Quantitativos, no qual tratamos aos dados representativo;"
   ]
  },
  {
   "cell_type": "markdown",
   "metadata": {},
   "source": [
    "### Feature Engineering\n",
    "\n",
    "- Juntar os dados em uma tabela\n",
    "única;\n",
    "\n",
    "- Criar target, se aplicável;\n",
    "\n",
    "- Fazer o tratamento de missing;\n",
    "\n",
    "- Binning de Variáveis;\n",
    "\n",
    "- Seleção de atributos;\n",
    "\n",
    "#### - Pipeline tratamento dos dados\n",
    "\n",
    "- Row data(base dados);\n",
    "- Stage(retirar elementos incompativeis);\n",
    "- Book(visão geral mensal);\n",
    "- ABT; "
   ]
  },
  {
   "cell_type": "markdown",
   "metadata": {},
   "source": [
    "### Normalização\n",
    "\n",
    "Pro:\n",
    "  - Melhora custo computacional;\n",
    "\n",
    "Contra:\n",
    "  - Perde a sensibilidade do dado;"
   ]
  },
  {
   "cell_type": "code",
   "execution_count": null,
   "metadata": {},
   "outputs": [],
   "source": [
    "### Cross Validation\n",
    "\n",
    "- Hold Out(Data[Trainning;Validation]);\n",
    "- K-fold;\n",
    "- Leave one out;"
   ]
  }
 ]
}